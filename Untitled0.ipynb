{
 "metadata": {
  "name": "",
  "signature": "sha256:3bf316ad66cc052cf60578a5dcf2f771a3ccb099fb1d62f83f0c2a0789077236"
 },
 "nbformat": 3,
 "nbformat_minor": 0,
 "worksheets": [
  {
   "cells": [
    {
     "cell_type": "code",
     "collapsed": false,
     "input": [
      "import trj_builder\n",
      "import scipy.stats as stats\n",
      "import matplotlib.pyplot as plt\n",
      "import matplotlib.gridspec as gridspec\n",
      "from pylab import plot,show,hist\n",
      "import json\n",
      "import datetime, time\n",
      "from scipy.stats.kde import gaussian_kde\n",
      "from scipy.stats import norm\n",
      "from numpy import linspace,hstack\n",
      "import numpy\n",
      "import scipy\n",
      "fmt=\"%Y%m%dT%H%M%S\"\n",
      "%matplotlib inline"
     ],
     "language": "python",
     "metadata": {},
     "outputs": [],
     "prompt_number": 1
    },
    {
     "cell_type": "code",
     "collapsed": false,
     "input": [
      "json_file = \"raw_data.json\"\n",
      "with open(json_file, \"r\")  as jsonf:\n",
      "    data_dict = json.load(jsonf)"
     ],
     "language": "python",
     "metadata": {},
     "outputs": [],
     "prompt_number": 2
    },
    {
     "cell_type": "code",
     "collapsed": false,
     "input": [
      "t=0\n",
      "t_r=0\n",
      "total_w_time=0\n",
      "total_tr_time=0\n",
      "for user,v in data_dict.iteritems():\n",
      "    t_walk=0\n",
      "    t_transport=0\n",
      "    total_records=0\n",
      "    total_days=len(v[\"data\"])\n",
      "    total_transport=0\n",
      "    walking_record=0\n",
      "    run_rec=0\n",
      "    day_l=[]\n",
      "    #print user,'total_days:',total_days, data_dict[user][\"info\"][\"name\"]  \n",
      "    for day,record in v[\"data\"].iteritems():\n",
      "        day_l.append(int(day))\n",
      "        total_records+= len(record)\n",
      "        t_r+= total_records\t\n",
      "        for r in record:\n",
      "            if (record[str(r)]['group']== \"walking\")& (record[str(r)][\"trackPoints\"]!=[]): \n",
      "                walking_record+=1\n",
      "                t+=1\n",
      "                s_t=record[str(r)]['s_time']\n",
      "                e_t=record[str(r)]['e_time']\n",
      "                s_t= datetime.datetime.strptime(s_t.split('+')[0],fmt)\n",
      "                e_t= datetime.datetime.strptime(e_t.split('+')[0],fmt)\n",
      "                diff=e_t-s_t\n",
      "                t_walk+= ((diff.seconds)/60)\n",
      "            if record[str(r)]['group']== \"transport\":\n",
      "                total_transport+=1\n",
      "                t+=1\n",
      "                s_t=record[str(r)]['s_time']\n",
      "                e_t=record[str(r)]['e_time']\n",
      "                s_t= datetime.datetime.strptime(s_t.split('+')[0],fmt)\n",
      "                e_t= datetime.datetime.strptime(e_t.split('+')[0],fmt)\n",
      "                diff=e_t-s_t\n",
      "                t_transport+= ((diff.seconds)/60)\n",
      "            if (record[str(r)]['group']== \"running\"):\n",
      "                run_rec+=1\n",
      "                t+=1\n",
      "    if (len(day_l)!=0)&(total_records !=0):\n",
      "        #print 'start day',min(day_l)\n",
      "        total_w_time+= t_walk\n",
      "        total_tr_time += t_transport\n",
      "        print data_dict[user][\"info\"][\"name\"],\",\",total_records, ' records in',total_days, 'days.', total_transport,'are transport (', t_transport/60,') hours, and ', walking_record, 'are walking (', t_walk/60, ') hours'   \n",
      "        \n",
      "print 'In general', t_r, 'recorded have collected from 10 participants'\n",
      "print t, 'subtrajectories'\n",
      "print trj, 'multimodal trajectories have been extracted'\n",
      "print total_w_time/60 , 'hours of walking and', total_tr_time/60, 'hours of transport'"
     ],
     "language": "python",
     "metadata": {},
     "outputs": [
      {
       "output_type": "stream",
       "stream": "stdout",
       "text": [
        "Tahmine Farel , 332  records in 29 days. 99 are transport ( 48 ) hours, and  105 are walking ( 10 ) hours\n",
        "Nicolas Gensollen , 542  records in 35 days. 105 are transport ( 39 ) hours, and  127 are walking ( 15 ) hours\n",
        "Mojgan Karimi , 352  records in 30 days. 114 are transport ( 35 ) hours, and  131 are walking ( 20 ) hours\n",
        "Sahar Radfar"
       ]
      },
      {
       "output_type": "stream",
       "stream": "stdout",
       "text": [
        " , 270  records in 29 days. 87 are transport ( 34 ) hours, and  97 are walking ( 9 ) hours\n",
        "Vincent Gauthier , 192  records in 29 days. 61 are transport ( 29 ) hours, and  42 are walking ( 4 ) hours\n",
        "Maryam Karimi , 204  records in 27 days. 89 are transport ( 43 ) hours, and  44 are walking ( 4 ) hours\n",
        "Christian Muvingi"
       ]
      },
      {
       "output_type": "stream",
       "stream": "stdout",
       "text": [
        " , 337  records in 29 days. 94 are transport ( 114 ) hours, and  114 are walking ( 14 ) hours\n",
        "Pooria Rad , 510  records in 28 days. 78 are transport ( 39 ) hours, and  151 are walking ( 18 ) hours\n",
        "Mohammad Javad Shole Sadi"
       ]
      },
      {
       "output_type": "stream",
       "stream": "stdout",
       "text": [
        " , 791  records in 35 days. 177 are transport ( 69 ) hours, and  117 are walking ( 8 ) hours\n",
        "Fereshteh ASGARI , 588  records in 35 days. 77 are transport ( 23 ) hours, and  259 are walking ( 38 ) hours\n",
        "In general 67045 recorded have collected from 10 participants\n",
        "2221 subtrajectories\n"
       ]
      },
      {
       "ename": "NameError",
       "evalue": "name 'trj' is not defined",
       "output_type": "pyerr",
       "traceback": [
        "\u001b[1;31m---------------------------------------------------------------------------\u001b[0m\n\u001b[1;31mNameError\u001b[0m                                 Traceback (most recent call last)",
        "\u001b[1;32m<ipython-input-3-65aa4706c041>\u001b[0m in \u001b[0;36m<module>\u001b[1;34m()\u001b[0m\n\u001b[0;32m     47\u001b[0m \u001b[1;32mprint\u001b[0m \u001b[1;34m'In general'\u001b[0m\u001b[1;33m,\u001b[0m \u001b[0mt_r\u001b[0m\u001b[1;33m,\u001b[0m \u001b[1;34m'recorded have collected from 10 participants'\u001b[0m\u001b[1;33m\u001b[0m\u001b[0m\n\u001b[0;32m     48\u001b[0m \u001b[1;32mprint\u001b[0m \u001b[0mt\u001b[0m\u001b[1;33m,\u001b[0m \u001b[1;34m'subtrajectories'\u001b[0m\u001b[1;33m\u001b[0m\u001b[0m\n\u001b[1;32m---> 49\u001b[1;33m \u001b[1;32mprint\u001b[0m \u001b[0mtrj\u001b[0m\u001b[1;33m,\u001b[0m \u001b[1;34m'multimodal trajectories have been extracted'\u001b[0m\u001b[1;33m\u001b[0m\u001b[0m\n\u001b[0m\u001b[0;32m     50\u001b[0m \u001b[1;32mprint\u001b[0m \u001b[0mtotal_w_time\u001b[0m\u001b[1;33m/\u001b[0m\u001b[1;36m60\u001b[0m \u001b[1;33m,\u001b[0m \u001b[1;34m'hours of walking and'\u001b[0m\u001b[1;33m,\u001b[0m \u001b[0mtotal_tr_time\u001b[0m\u001b[1;33m/\u001b[0m\u001b[1;36m60\u001b[0m\u001b[1;33m,\u001b[0m \u001b[1;34m'hours of transport'\u001b[0m\u001b[1;33m\u001b[0m\u001b[0m\n",
        "\u001b[1;31mNameError\u001b[0m: name 'trj' is not defined"
       ]
      }
     ],
     "prompt_number": 3
    },
    {
     "cell_type": "code",
     "collapsed": false,
     "input": [],
     "language": "python",
     "metadata": {},
     "outputs": []
    }
   ],
   "metadata": {}
  }
 ]
}