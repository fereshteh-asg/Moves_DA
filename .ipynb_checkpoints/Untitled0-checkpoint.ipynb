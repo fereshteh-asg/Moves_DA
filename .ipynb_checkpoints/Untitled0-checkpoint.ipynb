{
 "metadata": {
  "name": "",
  "signature": "sha256:f7e5c95a2c317822a3f2d6441776592c7b9d46b8ef2680bd7655c3f375e6b2f0"
 },
 "nbformat": 3,
 "nbformat_minor": 0,
 "worksheets": []
}